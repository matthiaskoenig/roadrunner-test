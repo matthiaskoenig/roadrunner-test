{
 "cells": [
  {
   "cell_type": "markdown",
   "metadata": {},
   "source": [
    "# Interactive Parameter Slider\n",
    "Interactive parameter slider for IPython Notebooks and roadrunner models."
   ]
  },
  {
   "cell_type": "code",
   "execution_count": 1,
   "metadata": {
    "collapsed": false
   },
   "outputs": [
    {
     "data": {
      "image/png": "[encoded data removed]",
      "text/plain": [
       "<matplotlib.figure.Figure at 0x7f2966318a50>"
      ]
     },
     "metadata": {},
     "output_type": "display_data"
    }
   ],
   "source": [
    "from __future__ import print_function, division\n",
    "%matplotlib inline\n",
    "\n",
    "import tellurium as te\n",
    "from tellurium.widgets import ParameterSlider\n",
    "\n",
    "model = '''\n",
    "      model pathway()\n",
    "        S1 -> S2; k1*S1 - k2*S2 # Reversible term added here\n",
    "\n",
    "        # Initialize values\n",
    "        S1 = 5; S2 = 0;\n",
    "        k1 = 0.1;  k2 = 0.05;\n",
    "\n",
    "      end\n",
    "'''\n",
    "r = te.loadAntimonyModel(model)\n",
    "ParameterSlider(r, paramIds=['k1']);"
   ]
  },
  {
   "cell_type": "code",
   "execution_count": null,
   "metadata": {
    "collapsed": true
   },
   "outputs": [],
   "source": []
  }
 ],
 "metadata": {
  "kernelspec": {
   "display_name": "Python 2",
   "language": "python",
   "name": "python2"
  },
  "language_info": {
   "codemirror_mode": {
    "name": "ipython",
    "version": 2
   },
   "file_extension": ".py",
   "mimetype": "text/x-python",
   "name": "python",
   "nbconvert_exporter": "python",
   "pygments_lexer": "ipython2",
   "version": "2.7.6"
  }
 },
 "nbformat": 4,
 "nbformat_minor": 0
}
